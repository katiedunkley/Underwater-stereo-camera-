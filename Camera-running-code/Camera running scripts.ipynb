{
 "cells": [
  {
   "cell_type": "markdown",
   "id": "a38f6ddf-a39d-4c9f-982a-ba307482d8f9",
   "metadata": {},
   "source": [
    "# Camera running scripts \n",
    "Each script below should be saved to an individual .py file (except the bash .sh script). All the files should be kept in the same folder on the Pi.  "
   ]
  },
  {
   "cell_type": "markdown",
   "id": "e7e3d91a-5686-4851-8c45-503077d1707a",
   "metadata": {
    "jp-MarkdownHeadingCollapsed": true,
    "tags": []
   },
   "source": [
    "## Before running the Run_Camera.sh file\n",
    "Before running the camera make sure an empty folder called \"Data\" is on the hard drive, and an empty \"check.txt\" text file is also within it. This is where the video and audio files will be saved."
   ]
  },
  {
   "cell_type": "markdown",
   "id": "dd813a0a-1eda-4360-a91b-d395dcdadd53",
   "metadata": {},
   "source": [
    "## Run_Camera.sh \n",
    "This bash script connects the camera run scripts together and is used as the main file. Save as \"Run_Camera.sh\""
   ]
  },
  {
   "cell_type": "code",
   "execution_count": null,
   "id": "edc91531-3247-4294-b950-aaaeae79fb99",
   "metadata": {},
   "outputs": [],
   "source": [
    "sleep 120 #This allows time for the harddrive to attach on boot before filming starts. \n",
    "cd /home/pi/Camera_Files #Path to main folder where all scripts .py are stored\n",
    "python3 ./Calculate_Iterations.py \n",
    "sleep 10\n",
    "python3 ./Check_harddrive.py \n",
    "python3 ./Audio_Video_Capture.py #This runs the camera \n",
    "python3 ./Check_reset.py"
   ]
  },
  {
   "cell_type": "markdown",
   "id": "0696960b-a7e7-4e22-8a1e-ac9d35c6e064",
   "metadata": {},
   "source": [
    "## Calculate_Iterations.py\n",
    "This script calculates how many 30 minute (or user specified) filming chunks to run when the camera is turned on. The user can specify at which time point they would like the camera to stop filming. If the camera is turned on after filming is due to finish, this script ensures the camera does not film. "
   ]
  },
  {
   "cell_type": "code",
   "execution_count": null,
   "id": "56a8ca91-be2c-4ea6-aea9-b03bdf62ecb6",
   "metadata": {},
   "outputs": [],
   "source": [
    "##############################################\n",
    "# Calculate number of iterations\n",
    "##############################################\n",
    "from datetime import datetime, timedelta, date, time\n",
    "\n",
    "## User specified info\n",
    "cut = time(17,30,0) #Cut off time to stop recording e.g. 5:30pm \n",
    "length = 30 #Recording length in mins\n",
    "\n",
    "##################\n",
    "secduration = length*60 #Recording length in seconds\n",
    "\n",
    "date=date.today()\n",
    "\n",
    "compare = datetime.combine(date, cut)\n",
    "\n",
    "d = compare-datetime.now()\n",
    "days =d.days\n",
    "seconds = d.seconds\n",
    "minutes = seconds/60\n",
    "chunks = minutes/length\n",
    "chunks=round(chunks,0)\n",
    "\n",
    "if days == 0:\n",
    "    Iterations = int(chunks)\n",
    "\n",
    "elif days <0:\n",
    "    Iterations = 0"
   ]
  },
  {
   "cell_type": "markdown",
   "id": "c54b80bd-8ac0-4285-89d4-d469143f618d",
   "metadata": {},
   "source": [
    "## Check_harddrive.py \n",
    "This script checks whether the hard drive is writable. If not, video is saved to the microsd (failsafe). For this script to work an empty text file called \"check.txt\" should be added to the Data folder on the hard drive. "
   ]
  },
  {
   "cell_type": "code",
   "execution_count": null,
   "id": "89c89aa0-4588-491a-bfae-c2868751c2d0",
   "metadata": {},
   "outputs": [],
   "source": [
    "##############################################\n",
    "# Check if hard drive is writeable\n",
    "##############################################\n",
    "f=open('/media/pi/Cam7/Video_Audio/Data/check.txt', 'a') #replace filepath with users own filepath\n",
    "ok=f.writable()\n",
    "\n",
    "if ok == True:\n",
    "    Store = '/media/pi/Cam7/Video_Audio/Data/' #replace filepath with users own filepath\n",
    "else:\n",
    "    #Storage location on Pi's microsd - backup incase there is an issue with harddrive\n",
    "    Store = '/home/pi/Data/' \n",
    "print(Store)\n",
    "    "
   ]
  },
  {
   "cell_type": "markdown",
   "id": "42ee499c-9ae2-4f5f-a5e9-4ea10015057c",
   "metadata": {},
   "source": [
    "## Audio_Video_Capture.py\n",
    "This script runs the video and audio capture. It has been modified from Mouy et al. (2020) and settings can be edited by the user. The video and audio are collected in 30 minute sequential chunks (this can be set by the user in Calculate_Iterations.py). We recommend filming in shorter chunks (e.g. 30 minutes) to help with processing both by the Raspberry Pi and the user. \n",
    "\n",
    "Video and audio are captured separately and can be joined together using FFMPEG if necessary - when calibrating in situ (i.e. moving the checkerboard) make sure to temporally calibrate the video and audio using a clapperboard equivalent (e.g. banging on the checkerboard in view of both cameras). \n",
    "\n",
    "Please note this file will not work with the buster operating system (please see \"Camera-running-files\" folder for replacement file) or the Arducam 16MP Camera Module. \n",
    "\n",
    "Mouy, X., Black, M., Cox, K., Qualley, J., Mireault, C., Dosso, S. and Juanes, F., 2020. FishCam: A low-cost open source autonomous camera for aquatic research. HardwareX, 8, p.e00110."
   ]
  },
  {
   "cell_type": "code",
   "execution_count": null,
   "id": "ee028f44-6f2b-49ea-8306-56e84b54b458",
   "metadata": {},
   "outputs": [],
   "source": [
    "##############################################\n",
    "# Capture video and audio\n",
    "##############################################\n",
    "import picamera\n",
    "import subprocess\n",
    "import os\n",
    "import time as t\n",
    "import signal\n",
    "from multiprocessing import Process\n",
    "from threading import Thread\n",
    "import argparse\n",
    "from datetime import datetime\n",
    "from Calculate_Iterations import Iterations, secduration\n",
    "import logging\n",
    "from Check_harddrive import Store\n",
    "\n",
    "\n",
    "def initVideoSettings(): #VideoSettings from Mouy et al. (2020)\n",
    "    videoSettings = {\n",
    "        'resolution': (1920,1080),\n",
    "        'frameRate': 30,      # frames per second\n",
    "        'quality': 18,        # 1 = highest quality (but largest file size), 30 = lowest quality \n",
    "        'format': 'h264',     # 'h264' works better than mpeg but needs to be converted after (see code below)\n",
    "        'exposure': 'night',  # 'auto', 'night','backlight'- for underwater use \"night\"\n",
    "        'AWB': 'auto',        # 'auto', 'cloudy', 'sunlight'\n",
    "        'sharpness': 0,       # value -100 to 100, auto: 0 (integer)\n",
    "        'contrast': 0,        # value -100 to 100, auto: 0 (integer)\n",
    "        'brightness': 50,     # value 0 to 100, auto: 0 (integer)\n",
    "        'saturation': 0,      # value -100 to 100, auto: 0 (integer)\n",
    "        'ISO': 400,           # low sensitivity: 100, high sensitivity: 400,800, auto: 0 \n",
    "        'vflip': False,\n",
    "        'output':Store,       #Filepath automatically added from Check_harddrive.py\n",
    "        'CamID':'Cam7'        #Add name of harrdrive e.g. Cam7 - this will add the harddrive name to the filepath \n",
    "        }\n",
    "    return videoSettings\n",
    "\n",
    "    \n",
    "def record_video(videoSettings=0):\n",
    "    if videoSettings == 0:\n",
    "        videoSettings = initVideoSettings()\n",
    "    with picamera.PiCamera() as camera:\n",
    "        camera.framerate = videoSettings['frameRate']\n",
    "        camera.resolution = videoSettings['resolution']\n",
    "        camera.exposure_mode = videoSettings['exposure']\n",
    "        camera.awb_mode = videoSettings['AWB']\n",
    "        camera.vflip = videoSettings['vflip']\n",
    "        camera.sharpness = videoSettings['sharpness']\n",
    "        camera.contrast = videoSettings['contrast']\n",
    "        camera.brightness = videoSettings['brightness']\n",
    "        camera.saturation = videoSettings['saturation']\n",
    "        camera.iso = videoSettings['ISO']\n",
    "        camera.start_recording(videoSettings['output']+videoSettings['CamID']+\n",
    "                               '_' +str(i)+'_Video_'+ datetime.now().strftime(\"%Y-%m-%d_%H-%M-%S-%f\")+\n",
    "                               '.h264', format=videoSettings['format'], quality=videoSettings['quality'])\n",
    "        camera.wait_recording(secduration)\n",
    "        camera.stop_recording()\n",
    "\n",
    "def record_audio(videoSettings=0):\n",
    "    if videoSettings == 0:\n",
    "        videoSettings = initVideoSettings()\n",
    "    dur=videoSettings['duration']\n",
    "    dur=f'--duration={dur} '\n",
    "    date=str(datetime.now())\n",
    "    name= videoSettings['output']+videoSettings['CamID']+'_'+str(i)+'_Audio_'+ \n",
    "        datetime.now().strftime(\"%Y-%m-%d_%H-%M-%S-%f\")\n",
    "    record = 'arecord -D dmic_sv -c2 -r 48000 -f S32_LE -t wav -V mono -v ' + dur + name+'.wav' \n",
    "    rec_proc=subprocess.Popen(record, shell=True)                   \n",
    "\n",
    "def warmup(videoSettings = 0):\n",
    "    if videoSettings == 0:\n",
    "        videoSettings = initVideoSettings()\n",
    "    with picamera.PiCamera() as camera:\n",
    "        camera.framerate = videoSettings['frameRate']\n",
    "        camera.resolution = videoSettings['resolution']\n",
    "        camera.exposure_mode = videoSettings['exposure']\n",
    "        camera.awb_mode = videoSettings['AWB']\n",
    "        camera.vflip = videoSettings['vflip']\n",
    "        camera.sharpness = videoSettings['sharpness']\n",
    "        camera.contrast = videoSettings['contrast']\n",
    "        camera.brightness = videoSettings['brightness']\n",
    "        camera.saturation = videoSettings['saturation']\n",
    "        camera.iso = videoSettings['ISO']\n",
    "        print('Warming up camera')\n",
    "        print(datetime.now())\n",
    "        t.sleep(2)\n",
    "\n",
    "log_path=os.path.join(Store,'error.log')\n",
    "logging.basicConfig(filename=log_path, level = logging.ERROR)\n",
    "try:\n",
    "    warmup()\n",
    "    for i in range(Iterations):\n",
    "        v=Thread(target=record_video)\n",
    "        a=Thread(target=record_audio)\n",
    "        v.start()\n",
    "        a.start()\n",
    "            \n",
    "        v.join()\n",
    "        a.join()\n",
    "except Exception as e:\n",
    "    logging.exception(str(e))"
   ]
  },
  {
   "cell_type": "markdown",
   "id": "2a8b8b1c-0c7f-487d-8e63-d74426cf12a8",
   "metadata": {},
   "source": [
    "## Check_reset.py\n",
    "This script checks whether the camera has finished filming when it should have, or whether the Audio_Video_Capture.py script has finished prematurely (for an unforeseen reason). If the script has finished prematurely it reboots the Pi which restarts the filming process. "
   ]
  },
  {
   "cell_type": "code",
   "execution_count": null,
   "id": "67e89ff7-4174-46e0-a153-c4f120b5ae2e",
   "metadata": {},
   "outputs": [],
   "source": [
    "from Calculate_Iterations import Iterations, secduration, cut, compare\n",
    "from datetime import datetime, timedelta, date, time\n",
    "import os\n",
    "\n",
    "now = datetime.now()\n",
    "hr = now.hour\n",
    "\n",
    "compare_hr=compare.hour\n",
    "\n",
    "if hr < compare_hr: \n",
    "    print(\"restart\")\n",
    "    os.system(\"sudo reboot\")"
   ]
  },
  {
   "cell_type": "markdown",
   "id": "b91aaac5-1c63-4e40-a4e9-d1a55733dc13",
   "metadata": {},
   "source": [
    "## Convert_h264_video.py\n",
    "Video is collected in h264 as it is easier to process by the Pi. The video can then be converted (at a later date after filming) using the below code. It converts any video within a folder with \"Data\" in the name. After filming folders should therefore be named something like: Cam7_Data_SiteName_Date. This script creates a duplicate folder (named Cam7_Converted_SiteName_Date) with converted video files (with duplicate names but .mp4 format). "
   ]
  },
  {
   "cell_type": "code",
   "execution_count": null,
   "id": "23a51d16-c797-42d4-ab77-44ccdab00a98",
   "metadata": {},
   "outputs": [],
   "source": [
    "## Prior to use please install gpac using:\n",
    "sudo apt-get install -y gpac"
   ]
  },
  {
   "cell_type": "code",
   "execution_count": null,
   "id": "d188f9f1-8b40-4f9e-ab30-ac344df6b95f",
   "metadata": {},
   "outputs": [],
   "source": [
    "from pathlib import Path\n",
    "import os\n",
    "import fnmatch\n",
    "import subprocess\n",
    "\n",
    "#Add main file path here, within this path we have the folder \"Cam7_Data_SiteName_Date\"\n",
    "files=Path('/media/pi/Cam7/Video_Audio/') \n",
    "video_fps = 30 # Frame per second\n",
    "\n",
    "for folder in files.iterdir():\n",
    "    name=os.path.splitext(folder.name)[0]\n",
    "    if 'Data' in name:\n",
    "        changed_name= name.replace('Data','')\n",
    "        convert_name_new='Convert_'+changed_name\n",
    "        convert_name_path=os.path.join(files,convert_name_new)\n",
    "        exist_check=os.path.exists(convert_name_path)\n",
    "        if not exist_check:\n",
    "            os.makedirs(convert_name_path)\n",
    "        vids=Path(folder)\n",
    "        for file in vids.glob('*.h264'):\n",
    "            vid_name=os.path.splitext(file.name)[0]\n",
    "            in_dir=os.path.join(files, folder.name)\n",
    "            input_video= in_dir+'/' +vid_name +'.h264'\n",
    "            output_video=convert_name_path+'/' +vid_name +'.mp4'\n",
    "            exist=os.path.exists(output_video)\n",
    "            if not exist:    \n",
    "                subprocess.call([\"MP4Box\", \"-fps\", str(video_fps), \"-add\", input_video, output_video])"
   ]
  }
 ],
 "metadata": {
  "kernelspec": {
   "display_name": "Python 3 (ipykernel)",
   "language": "python",
   "name": "python3"
  },
  "language_info": {
   "codemirror_mode": {
    "name": "ipython",
    "version": 3
   },
   "file_extension": ".py",
   "mimetype": "text/x-python",
   "name": "python",
   "nbconvert_exporter": "python",
   "pygments_lexer": "ipython3",
   "version": "3.9.13"
  },
  "toc-autonumbering": false,
  "toc-showcode": false,
  "toc-showmarkdowntxt": false
 },
 "nbformat": 4,
 "nbformat_minor": 5
}
