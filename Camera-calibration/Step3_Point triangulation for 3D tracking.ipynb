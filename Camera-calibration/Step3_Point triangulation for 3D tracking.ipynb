{
 "cells": [
  {
   "cell_type": "markdown",
   "id": "ab2162ac-3b6d-447a-abb3-ba0ef3eed00d",
   "metadata": {
    "tags": []
   },
   "source": [
    "# 3D tracking of points across video frames\n",
    "This stage uses xy coordinates from synced left and right video frames of the same objects. It triangulates each point to produce xyz coordinates for the object (e.g. fish individual) for each video frame. Prior to this step, cameras should be calibrated in time and space. "
   ]
  },
  {
   "cell_type": "code",
   "execution_count": 1,
   "id": "1d17b7c8-0103-4ea0-877c-18c8bea120b1",
   "metadata": {},
   "outputs": [],
   "source": [
    "import os\n",
    "import cv2\n",
    "import pandas as pd\n",
    "import numpy as np\n",
    "import matplotlib.pyplot as plt\n",
    "import matplotlib.colors as colors"
   ]
  },
  {
   "cell_type": "code",
   "execution_count": 2,
   "id": "1be8220e-6622-4b8a-a402-9a2c4776d3a8",
   "metadata": {},
   "outputs": [],
   "source": [
    "### Load in left and right image points for triangulation (e.g. in csv)\n",
    "left_points=os.path.abspath('Add_own_file_path') \n",
    "right_points=os.path.abspath('Add_own_file_path') \n",
    "\n",
    "left_points = pd.read_csv(left_points)\n",
    "right_points= pd.read_csv(right_points)\n",
    "\n",
    "### Change column names depending on own dframe - need a frame ID, an object/indv ID and xy coordinates for each\n",
    "left_points = left_points[[\"frame_count\", \"name\",\"x\", \"y\" ]]\n",
    "right_points = right_points[[\"frame_count\", \"name\",\"x\", \"y\" ]]\n",
    "\n",
    "### Match left and right points that are visible in both left and right frames at same timepoint \n",
    "left_frame_id=left_points[[\"frame_count\", \"name\"]]\n",
    "right_frame_id=right_points[[\"frame_count\", \"name\"]]\n",
    "frame_id = pd.concat([left_frame_id, right_frame_id])\n",
    "frame_id =frame_id.reset_index(drop=True)\n",
    "frame_id_unique = frame_id[frame_id.duplicated(subset=[\"frame_count\", \"name\"], keep=False)]\n",
    "\n",
    "left = []\n",
    "right = []\n",
    "frame_id = []\n",
    "for index, row in frame_id_unique.iterrows():\n",
    "    ID = row['name']\n",
    "    Frame = row['frame_count']\n",
    "    frame_id.append(ID+\"_Frame_\"+str(Frame))\n",
    "    l=left_points[((left_points['frame_count'] == Frame) & (left_points['name']== ID))].to_numpy()\n",
    "    r=right_points[((right_points['frame_count'] == Frame) & (right_points['name']== ID))].to_numpy()\n",
    "    left.append(l[:,[2,3]])\n",
    "    right.append(r[:,[2,3]])\n",
    "left=np.float32(left)\n",
    "right=np.float32(right)"
   ]
  },
  {
   "cell_type": "code",
   "execution_count": 3,
   "id": "41a10f6e-adbe-4246-b1cb-222de74587c3",
   "metadata": {},
   "outputs": [],
   "source": [
    "### Read in stereo callibration parameters\n",
    "calibration_parameters=os.path.abspath('Add_own_file_path_to_extrinsic_properties')\n",
    "\n",
    "### Load all camera parameters\n",
    "cv_file=cv2.FileStorage()\n",
    "cv_file.open(calibration_parameters, cv2.FileStorage_READ)\n",
    "l_mtx=cv_file.getNode('l_mtx').mat()#cameramatrix\n",
    "r_mtx=cv_file.getNode('r_mtx').mat()#cameramatrix\n",
    "l_dist=cv_file.getNode('l_dist').mat()#distortion coeffecients\n",
    "r_dist=cv_file.getNode('r_dist').mat()#distortion coeffecients\n",
    "R=cv_file.getNode('R').mat()\n",
    "T=cv_file.getNode('T').mat()\n",
    "E=cv_file.getNode('E').mat()\n",
    "F=cv_file.getNode('F').mat()"
   ]
  },
  {
   "cell_type": "code",
   "execution_count": 4,
   "id": "75b584ff-f655-4ec3-b7a4-93b74d24b461",
   "metadata": {},
   "outputs": [],
   "source": [
    "### Undistort points based on camera parameters \n",
    "def undistort_points(l_points, r_points, frame_id, l_mtx, r_mtx, l_dist, r_dist):\n",
    "    \n",
    "    l_points_undistort=[]\n",
    "    r_points_undistort =[]\n",
    "    \n",
    "    for fname in frame_id:\n",
    "        img_index=frame_id.index(fname)\n",
    "        l_points_undistort.append(cv2.undistortPoints(l_points[img_index], l_mtx, l_dist, P=l_mtx)) \n",
    "        r_points_undistort.append(cv2.undistortPoints(r_points[img_index], r_mtx, r_dist, P=r_mtx))\n",
    "        #specifying P = l_mtx/r_mtx puts points in real world points\n",
    "    return(l_points_undistort, r_points_undistort, frame_id)   "
   ]
  },
  {
   "cell_type": "code",
   "execution_count": null,
   "id": "e7dcd330",
   "metadata": {},
   "outputs": [],
   "source": [
    "l_points_undistort, r_points_undistort, frame_id=undistort_points(left, right, frame_id, l_mtx, r_mtx, l_dist, r_dist)"
   ]
  },
  {
   "cell_type": "code",
   "execution_count": 5,
   "id": "8ab76e6a-49b3-4b96-9092-bd3d8a8c86b5",
   "metadata": {},
   "outputs": [],
   "source": [
    "### Triangulate points \n",
    "\n",
    "def triangulate_points(l_points_undistort, r_points_undistort, frame_id, l_mtx, r_mtx, R, T):\n",
    "    \n",
    "    projMat1 = l_mtx @ cv2.hconcat([np.eye(3), np.zeros((3,1))]) # Cam1 is the origin\n",
    "    projMat2 = r_mtx @ cv2.hconcat([R, T]) # R, T from stereoCalibrate parameters\n",
    "    frame_xyz=[]\n",
    "    frame_index=[]\n",
    "    \n",
    "    for fname in frame_id:\n",
    "        \n",
    "        img_index=frame_id.index(fname)\n",
    "        l_points=l_points_undistort[img_index]\n",
    "        r_points=r_points_undistort[img_index]\n",
    "        l_points=l_points[:,0]\n",
    "        r_points=r_points[:,0]\n",
    "        \n",
    "        points3d=[]\n",
    "        point=0\n",
    "        while point < len(l_points):\n",
    "            triangulation = cv2.triangulatePoints(projMat1, projMat2,l_points[point], r_points[point])\n",
    "            triangulation = (triangulation[:3, :]/triangulation[3, :]).T\n",
    "            points3d.append(triangulation)\n",
    "            point=point+1\n",
    "        frame_xyz.append(points3d)\n",
    "        frame_index.append(fname)\n",
    "    return(frame_xyz, frame_index) "
   ]
  },
  {
   "cell_type": "code",
   "execution_count": null,
   "id": "ca69e892",
   "metadata": {},
   "outputs": [],
   "source": [
    "frame_xyz, frame_index=triangulate_points(l_points_undistort, r_points_undistort, frame_id, l_mtx, r_mtx, R, T)\n",
    "#This returns the XYZ coordinates of each individual point. These can be plotted and used in further analyses. "
   ]
  }
 ],
 "metadata": {
  "kernelspec": {
   "display_name": "Python 3 (ipykernel)",
   "language": "python",
   "name": "python3"
  },
  "language_info": {
   "codemirror_mode": {
    "name": "ipython",
    "version": 3
   },
   "file_extension": ".py",
   "mimetype": "text/x-python",
   "name": "python",
   "nbconvert_exporter": "python",
   "pygments_lexer": "ipython3",
   "version": "3.9.13"
  }
 },
 "nbformat": 4,
 "nbformat_minor": 5
}
