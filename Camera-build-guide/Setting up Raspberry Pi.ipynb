{
 "cells": [
  {
   "cell_type": "markdown",
   "metadata": {},
   "source": [
    "# Setting up the Raspberry Pi\n",
    "These instructions are for the Buster operating system. For Pi OS bullseye (from Nov 2021) it is not necessary to enable the camera."
   ]
  },
  {
   "cell_type": "markdown",
   "metadata": {},
   "source": [
    "## Setting up the camera (for buster OS)\n",
    "The camera has to be enabled prior to use (with the buster operating system) using the following:"
   ]
  },
  {
   "cell_type": "code",
   "execution_count": null,
   "metadata": {},
   "outputs": [],
   "source": [
    "sudo raspi-config\n",
    "##\"Interfacing Options\" submenu. Navigate to \"Enable camera\"\n",
    "sudo reboot\n",
    "sudo apt-get install python-picamera # this package is needed to run the camera scripts. It is not implemented with the buster operating system. \n",
    "##Check camera working\n",
    "raspistill -o Desktop/image.jpg #saves a test image to desktop"
   ]
  },
  {
   "cell_type": "markdown",
   "metadata": {},
   "source": [
    "This step is not necessary for the bullseye OS (picamera is not supported with this OS). Cameras were tested in situ with the picamera and buster OS. This older OS can be written to a microsd using the Raspberry Pi Imager. "
   ]
  },
  {
   "cell_type": "markdown",
   "metadata": {},
   "source": [
    "## Setting up the microphone \n",
    "Once the microphone has been installed (using soldering) it can be simply installed using the following: "
   ]
  },
  {
   "cell_type": "code",
   "execution_count": null,
   "metadata": {},
   "outputs": [],
   "source": [
    "sudo pip3 install --upgrade adafruit-python-shell\n",
    "wget https://raw.githubusercontent.com/adafruit/Raspberry-Pi-Installer-Scripts/master/i2smic.py\n",
    "sudo python3 i2smic.py # y = autoload module at boot\n",
    "\n",
    "arecord -D plughw:1 -c1 -r 48000 -f S32_LE -t wav -V mono -v file.wav #test file "
   ]
  },
  {
   "cell_type": "markdown",
   "metadata": {},
   "source": [
    "See https://learn.adafruit.com/adafruit-i2s-mems-microphone-breakout/arduino-wiring-and-test for more information."
   ]
  },
  {
   "cell_type": "markdown",
   "metadata": {},
   "source": [
    "#### Changing the volume and sensitivity\n",
    "The microphone starts off very quiet and this can be adjusted using alsamixer following the guidance on https://learn.adafruit.com/adafruit-i2s-mems-microphone-breakout/arduino-wiring-and-test. \n",
    "\n",
    "We set the alsamixer value to 47. "
   ]
  },
  {
   "cell_type": "code",
   "execution_count": null,
   "metadata": {},
   "outputs": [],
   "source": [
    "## To record sound using alsamixer settings\n",
    "arecord -D dmic_sv -c2 -r 48000 -f S32_LE -t wav -V mono -v file.wav"
   ]
  },
  {
   "cell_type": "markdown",
   "metadata": {},
   "source": [
    "## Setting up the real time clock \n",
    "Once the real time clock is installed on the board, it needs to be set up using the following code:"
   ]
  },
  {
   "cell_type": "code",
   "execution_count": null,
   "metadata": {},
   "outputs": [],
   "source": [
    "#First Enable i2c on sudo raspi-config settings\n",
    "\n",
    "sudo apt-get install python-smbus i2c-tools\n",
    "##Check ID #68 show up \n",
    "sudo i2cdetect -y 1\n",
    "sudo nano /boot/config.txt\n",
    "##At end of file add and save the following\n",
    "#enable I2c and I2S by uncommenting (this step can be done via sudo raspi-config)\n",
    "dtoverlay=i2c-rtc,ds3231\n",
    "#reboot\n",
    "sudo reboot\n",
    "\n",
    "## check that UU shows up where 0x68 should be\n",
    "sudo i2cdetect -y 1\n",
    "\n",
    "##Disable \"fake hwclock\" which interferes with the 'real' hwclock \n",
    "sudo apt-get -y remove fake-hwclock\n",
    "sudo update-rc.d -f fake-hwclock remove\n",
    "sudo systemctl disable fake-hwclock\n",
    "sudo nano /lib/udev/hwclock-set\n",
    "sudo reboot \n",
    "##Comment out following lines:\n",
    "#if [ -e /run/systemd/system ] ; then\n",
    "# exit 0\n",
    "#fi\n",
    "#/sbin/hwclock --rtc=$dev --systz --badyear\n",
    "#/sbin/hwclock --rtc=$dev --systz\n",
    "\n",
    "##Check time\n",
    "sudo hwclock -r\n",
    "## Write time (only have to do this once to set the time, the time then updates (i.e. from drift) everytime the Pi connects to the internet)\n",
    "sudo hwclock -w"
    "## We recommend updating the clock as frequently as possible to reduce drift" 
   ]
  },
  {
   "cell_type": "markdown",
   "metadata": {},
   "source": [
    "For guidance see https://learn.adafruit.com/adding-a-real-time-clock-to-raspberry-pi/set-rtc-time"
   ]
  },
  {
   "cell_type": "markdown",
   "metadata": {},
   "source": [
    "Note: When setting up the real time clock, we experienced boot issues the first time it was turned on after disabling the fake hwclock. Waiting for a several minutes and then turning the Pi off and back on seemed to solve this issue (there were no further issues).  "
   ]
  },
  {
   "cell_type": "markdown",
   "metadata": {},
   "source": [
    "## Setting the Pi to start filming when the camera turns on \n",
    "We use the systemctl command to run the camera filming script. This means that the camera starts filming everytime it is turned on (with the switch) or following a reboot. The iterations file within the camera filming scripts tells the camera when to stop filming (and camera filming times be altered by the user). "
   ]
  },
  {
   "cell_type": "code",
   "execution_count": null,
   "metadata": {},
   "outputs": [],
   "source": [
    "sudo nano /etc/systemd/system/runcamera.service #runcamera can be replaced with a user specified name\n",
    "\n",
    "# Add the following to the empty file that is presented\n",
    "[Unit]\n",
    "Description=RunCamera Service\n",
    "After=multi-user.target\n",
    "\n",
    "[Service]\n",
    "Type=idle\n",
    "User=pi\n",
    "ExecStart=sh /home/pi/Camera_Files/Run_Camera.sh #path to the Run_Camera bash script (see Camera Software folder)\n",
    "Restart=on-failure #This tells the Pi to restart if there is a problem with the script at any unforseen point during the filming process (failsafe).  \n",
    "RestartSec=60\n",
    "\n",
    "[Install]\n",
    "WantedBy=multi-user.target\n",
    "\n",
    "#save the file with CTRL+O and close the editor with with CTRL+X.\n",
    "#To enable the service\n",
    "sudo chmod 644 /etc/systemd/system/runcamera.service\n",
    "sudo systemctl daemon-reload\n",
    "sudo systemctl enable runcamera.service\n",
    "\n",
    "sudo systemctl status runcamera.service #This line shows the user that the bash script is running, or finished (i.e. after the filming endtime e.g. 5pm)\n",
    "\n",
    "# To stop the service, but keep it enabled (so it runs next time the camera is turned on)\n",
    "sudo systemctl stop runcamera.service\n",
    "\n",
    "#To disable the service (i.e. stop the camera filming everytime it is turned on) \n",
    "sudo systemctl disable runcamera.service"
   ]
  },
  {
   "cell_type": "markdown",
   "metadata": {},
   "source": [
    "## Setting the Pi to restart filming at different times\n",
    "This can be useful if you need the Pi to start recording in the morning following an overnight deployment. The Pi restarts at a specified time (set by the user) and this restarts the filming scripts. This can be achieved using cronjobs. This is an excellent website which helps guide how to write the timings for cronjobs: https://crontab.guru  "
   ]
  },
  {
   "cell_type": "code",
   "execution_count": null,
   "metadata": {},
   "outputs": [],
   "source": [
    "crontab -e # the first time this is called the user is asked to create a crontab. Type 1 at this stage and hit enter. \n",
    "30 6 * * * sudo shutdown -r now #at 6:30 am every day of the year (i.e. when the camera is turned on) restart. \n",
    "\n",
    "## This will restart the camera software and rebegin filming following an overnight deployment. This time can be customised by the user. "
   ]
  },
  {
   "cell_type": "markdown",
   "metadata": {},
   "source": [
    "Mouy et al (2020) used a Witty Pi to turn the camera on and off overnight. However, this was facilitated by using lithium batteries. A Witty Pi does not work as easily when using a portable power bank (as we used), as the portable power bank turns off when no power is being used (i.e. the Pi is off). The Witty Pi does then not have the power to kick start the Pi when it is time to turn on. To stop the portable power bank turning off a smaller resistor can be used, but that will still drain a similar amount of battery compared to the Pi Zero in idle mode. Therefore there is not likely much benefit to adding a Witty Pi to this set up. Instead the Pi remains in idle mode once it has finished filming for the night and reboots the next morning (as specified by the cronjob).  "
   ]
  },
  {
   "cell_type": "markdown",
   "metadata": {},
   "source": [
    "## Setting a watchdog to monitor for crashes\n",
    "This step sets a watchdog which periodically monitors the Raspberry Pi for system crashes. If the Pi crashes, the watchdog restarts the board and hence, hopefully, the filming process. To set up a watchdog, follow the steps outlined here: https://medium.com/@arslion/enabling-watchdog-on-raspberry-pi-b7e574dcba6b"
   ]
  }
 ],
 "metadata": {
  "kernelspec": {
   "display_name": "Python 3 (ipykernel)",
   "language": "python",
   "name": "python3"
  },
  "language_info": {
   "codemirror_mode": {
    "name": "ipython",
    "version": 3
   },
   "file_extension": ".py",
   "mimetype": "text/x-python",
   "name": "python",
   "nbconvert_exporter": "python",
   "pygments_lexer": "ipython3",
   "version": "3.9.13"
  }
 },
 "nbformat": 4,
 "nbformat_minor": 4
}
